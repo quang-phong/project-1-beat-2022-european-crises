{
 "cells": [
  {
   "cell_type": "markdown",
   "metadata": {},
   "source": [
    "<div align = \"center\">\n",
    "<h2> <b>MASTER THESIS:</b> INITIAL MODELLING </h2>\n",
    "<h3> <em>by Quang Phong</em> </h3>\n",
    "</div>"
   ]
  },
  {
   "cell_type": "markdown",
   "metadata": {},
   "source": [
    "---"
   ]
  },
  {
   "cell_type": "markdown",
   "metadata": {},
   "source": [
    "#### **INTRODUCTION**\n",
    "\n",
    "**Purposes:** to predict occupancy based on initial data  \n",
    "\n",
    "**Goals:**\n",
    "- [ ] High accuracy \n",
    "- [x] Long prediction window\n",
    "\n",
    "**Technologies:** VS Code, Anaconda, GitHub  \n",
    "\n",
    "**Techniques:**\n",
    "   - 6 time-series predicting methods\n",
    "   - 12 different Machine learning and Deep learning algorithms\n",
    "  \n",
    "**Reminders:**\n",
    "- Do not bother exporting to pdf directly, just using html first"
   ]
  },
  {
   "cell_type": "markdown",
   "metadata": {},
   "source": [
    "---"
   ]
  },
  {
   "cell_type": "markdown",
   "metadata": {},
   "source": [
    "#### **TABLE OF CONTENT**\n",
    "1. Data and library preparation\n",
    "2. Data preprocessing for analysis \n",
    "3. Data description and visualization\n",
    "4. Data analysis \n",
    "5. Data preprocessing for modelling \n",
    "6. Data modelling \n",
    "   - Time series modelling\n",
    "   - Machine learning modelling\n",
    "   - Deep learning modelling\n",
    "7. Model evaluation"
   ]
  },
  {
   "cell_type": "markdown",
   "metadata": {},
   "source": [
    "#### **1. DATA AND LIBRARY PREPARATION**"
   ]
  },
  {
   "cell_type": "code",
   "execution_count": 3,
   "metadata": {},
   "outputs": [
    {
     "data": {
      "text/plain": [
       "10000000000000000000000000000000000000000000000000000000000000000000000000000000000000000000000000000"
      ]
     },
     "execution_count": 3,
     "metadata": {},
     "output_type": "execute_result"
    }
   ],
   "source": [
    "a = 10\n",
    "a**a**2"
   ]
  },
  {
   "cell_type": "code",
   "execution_count": null,
   "metadata": {},
   "outputs": [],
   "source": []
  },
  {
   "cell_type": "markdown",
   "metadata": {},
   "source": []
  }
 ],
 "metadata": {
  "interpreter": {
   "hash": "6aca17819797eb4a35ae21f0bd007fe5b79e465a665743c0fca1b85a69fe6137"
  },
  "kernelspec": {
   "display_name": "Python 3.8.5 ('py_385')",
   "language": "python",
   "name": "python3"
  },
  "language_info": {
   "codemirror_mode": {
    "name": "ipython",
    "version": 3
   },
   "file_extension": ".py",
   "mimetype": "text/x-python",
   "name": "python",
   "nbconvert_exporter": "python",
   "pygments_lexer": "ipython3",
   "version": "3.8.5"
  },
  "orig_nbformat": 4
 },
 "nbformat": 4,
 "nbformat_minor": 2
}
