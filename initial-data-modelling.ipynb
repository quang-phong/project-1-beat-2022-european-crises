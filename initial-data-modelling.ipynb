{
 "cells": [
  {
   "cell_type": "markdown",
   "metadata": {},
   "source": []
  },
  {
   "cell_type": "markdown",
   "metadata": {},
   "source": [
    "## Master Thesis: Inital Data Modelling\n",
    "### By: Quang Phong"
   ]
  },
  {
   "cell_type": "markdown",
   "metadata": {},
   "source": [
    "**Purposes:** to predict occupancy based on initial data\n",
    "\n",
    "**Technologies:** VS Code, Anaconda, GitHub\n",
    "\n",
    "**Techniques:**\n",
    "- 6 time-series predicting methods\n",
    "- 12 different Machine learning and Deep learning algorithms\n",
    "\n",
    "**Reminders:**\n",
    "- Do not bother exporting to pdf directly, just using html first"
   ]
  },
  {
   "cell_type": "code",
   "execution_count": 13,
   "metadata": {},
   "outputs": [
    {
     "data": {
      "text/plain": [
       "10000000000"
      ]
     },
     "execution_count": 13,
     "metadata": {},
     "output_type": "execute_result"
    }
   ],
   "source": [
    "a = 10\n",
    "a**a"
   ]
  },
  {
   "cell_type": "markdown",
   "metadata": {},
   "source": []
  }
 ],
 "metadata": {
  "interpreter": {
   "hash": "6aca17819797eb4a35ae21f0bd007fe5b79e465a665743c0fca1b85a69fe6137"
  },
  "kernelspec": {
   "display_name": "Python 3.8.5 ('py_385')",
   "language": "python",
   "name": "python3"
  },
  "language_info": {
   "codemirror_mode": {
    "name": "ipython",
    "version": 3
   },
   "file_extension": ".py",
   "mimetype": "text/x-python",
   "name": "python",
   "nbconvert_exporter": "python",
   "pygments_lexer": "ipython3",
   "version": "3.8.5"
  },
  "orig_nbformat": 4
 },
 "nbformat": 4,
 "nbformat_minor": 2
}
